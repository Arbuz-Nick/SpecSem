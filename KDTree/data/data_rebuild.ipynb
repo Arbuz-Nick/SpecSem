{
 "cells": [
  {
   "cell_type": "code",
   "execution_count": null,
   "metadata": {},
   "outputs": [],
   "source": [
    "file = open(\"Beared guy.obj\", 'r')\n",
    "result = open(\"result.xyz\", 'w')\n",
    "s = file.readline()\n",
    "while s:\n",
    "    if s.strip().split()[0] == 'v':\n",
    "        result.write(s.strip()[1:] + '\\n')\n"
   ]
  }
 ],
 "metadata": {
  "language_info": {
   "name": "python"
  },
  "orig_nbformat": 4
 },
 "nbformat": 4,
 "nbformat_minor": 2
}
